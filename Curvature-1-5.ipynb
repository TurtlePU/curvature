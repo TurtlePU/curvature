{
 "cells": [
  {
   "cell_type": "code",
   "execution_count": 1,
   "metadata": {},
   "outputs": [],
   "source": [
    "import math\n",
    "import os\n",
    "import random\n",
    "\n",
    "import networkx as nx\n",
    "import numpy as np\n",
    "import matplotlib.pyplot as plt\n",
    "import seaborn as sns\n",
    "\n",
    "from ot import emd2\n",
    "from pyxdameraulevenshtein import damerau_levenshtein_distance\n",
    "\n",
    "from sklearn.cluster import AffinityPropagation, DBSCAN, SpectralClustering\n",
    "from sklearn.metrics import accuracy_score, confusion_matrix\n",
    "from sklearn.model_selection import train_test_split"
   ]
  },
  {
   "cell_type": "code",
   "execution_count": 2,
   "metadata": {},
   "outputs": [],
   "source": [
    "%matplotlib inline\n",
    "cmap = sns.light_palette('azure', input='xkcd')"
   ]
  },
  {
   "cell_type": "code",
   "execution_count": 3,
   "metadata": {},
   "outputs": [],
   "source": [
    "def floyd(mt):\n",
    "    res = mt.copy()\n",
    "    n = len(mt)\n",
    "    for i in range(n):\n",
    "        for k in range(n):\n",
    "            if i == k: continue\n",
    "            for j in range(n):\n",
    "                if i == j or j == k: continue\n",
    "                if res[i, j] > res[i, k] + res[k, j]:\n",
    "                    res[i, j] = res[i, k] + res[k, j]\n",
    "    return res\n",
    "\n",
    "def get_curvature(mt):\n",
    "    n = len(mt)\n",
    "    hop = floyd(np.vectorize(lambda x: n + 1 if x == 0 else 1)(mt))\n",
    "    for i in range(n):\n",
    "        hop[i, i] = 0\n",
    "    piles = [[w / row.sum() for w in row] for row in mt]\n",
    "    res = np.zeros((n, n), dtype=float)\n",
    "    for i in range(n):\n",
    "        for j in range(n):\n",
    "            if hop[i, j] != 0:\n",
    "                res[i, j] = 1 - emd2(piles[i], piles[j], hop) / hop[i, j]\n",
    "    return res\n",
    "\n",
    "def upper_triangle(mt):\n",
    "    res = []\n",
    "    for i in range(mt.shape[0]):\n",
    "        for j in range(i + 1, mt.shape[1]):\n",
    "            res.append(mt[i, j])\n",
    "    return np.array(res)\n",
    "\n",
    "def levenshtein(a, b):\n",
    "    return damerau_levenshtein_distance(list(a), list(b))\n",
    "\n",
    "def show_accuracy(y_test, y_pred):\n",
    "    print('Точность: ', round(accuracy_score(y_test, y_pred), 3))\n",
    "    conf_mt = confusion_matrix(y_test, y_pred)\n",
    "    labels = ['CTL', 'PNT']\n",
    "    ax = plt.subplot()\n",
    "    sns.heatmap(conf_mt, annot=True, ax=ax, cmap=cmap)\n",
    "    ax.set_xlabel('Предсказание')\n",
    "    ax.set_ylabel('На самом деле')\n",
    "    ax.set_title('Ошибки')\n",
    "    ax.xaxis.set_ticklabels(labels) \n",
    "    ax.yaxis.set_ticklabels(labels, rotation=360)\n",
    "    plt.show()"
   ]
  },
  {
   "cell_type": "code",
   "execution_count": 5,
   "metadata": {},
   "outputs": [],
   "source": [
    "vertex_curvature = []\n",
    "edge_curvature = []\n",
    "y = []\n",
    "\n",
    "for i, (a, b) in enumerate([('controls', 'ctrl'), ('patients', 'pat')]):\n",
    "    dirname = 'Alzheimer/AD_'+a+'_corr_mats/'\n",
    "    n = len(os.listdir(dirname))\n",
    "    curvature = [get_curvature(np.load(dirname+b+'_'+str(j)+'.npy')) for j in range(n)]\n",
    "\n",
    "    vertex_curvature.append([c.mean(axis=1) for c in curvature])\n",
    "    edge_curvature.append([upper_triangle(c) for c in curvature])\n",
    "    y.append([i] * n)\n",
    "\n",
    "vertex_curvature = np.concatenate(vertex_curvature)\n",
    "edge_curvature = np.concatenate(edge_curvature)\n",
    "y = np.concatenate(y)"
   ]
  },
  {
   "cell_type": "code",
   "execution_count": 8,
   "metadata": {},
   "outputs": [],
   "source": [
    "def predict(Predictor, prep_X, X0_tr, X0_ts, y_tr, y_ts):\n",
    "    X = prep_X(X0_tr)\n",
    "    X_tr = X(X0_tr)\n",
    "    X_ts = X(X0_ts)\n",
    "    pred = Predictor().fit(X_tr, y_tr).predict(X_ts)\n",
    "    return (y_ts, pred)"
   ]
  },
  {
   "cell_type": "code",
   "execution_count": 166,
   "metadata": {},
   "outputs": [
    {
     "name": "stdout",
     "output_type": "stream",
     "text": [
      "Точность:  0.516\n"
     ]
    },
    {
     "data": {
      "image/png": "[encoded data removed]",
      "text/plain": [
       "<Figure size 432x288 with 2 Axes>"
      ]
     },
     "metadata": {
      "needs_background": "light"
     },
     "output_type": "display_data"
    }
   ],
   "source": [
    "from sklearn.model_selection import train_test_split\n",
    "from sklearn.linear_model import LogisticRegression\n",
    "from sklearn.preprocessing import StandardScaler\n",
    "\n",
    "def LogReg():\n",
    "    return LogisticRegression()\n",
    "\n",
    "def histo(x):\n",
    "    return np.array([ np.histogram(y, bins=1000, range=(-1, 1))[0] for y in x ])\n",
    "\n",
    "def prep(src):\n",
    "    sc = PCA().fit(histo(src)).transform\n",
    "    return lambda x: sc(histo(x))\n",
    "\n",
    "show_accuracy(*predict(LogReg, prep, *train_test_split(vertex_curvature, y, test_size=0.2)))"
   ]
  }
 ],
 "metadata": {
  "kernelspec": {
   "display_name": "Python 3",
   "language": "python",
   "name": "python3"
  },
  "language_info": {
   "codemirror_mode": {
    "name": "ipython",
    "version": 3
   },
   "file_extension": ".py",
   "mimetype": "text/x-python",
   "name": "python",
   "nbconvert_exporter": "python",
   "pygments_lexer": "ipython3",
   "version": "3.8.3"
  }
 },
 "nbformat": 4,
 "nbformat_minor": 4
}

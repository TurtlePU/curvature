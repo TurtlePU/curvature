{
 "cells": [
  {
   "cell_type": "code",
   "execution_count": 1,
   "metadata": {},
   "outputs": [],
   "source": [
    "import pandas as pd\n",
    "\n",
    "labels = pd.read_csv('craddock200.csv')\n",
    "pos = labels.loc[:,'x.mni':'y.mni'].values"
   ]
  },
  {
   "cell_type": "code",
   "execution_count": 2,
   "metadata": {},
   "outputs": [],
   "source": [
    "import numpy as np\n",
    "\n",
    "curvatures = np.load('CNIChallenge/train/Training/curvature.npy')\n",
    "metadata = pd.read_csv('CNIChallenge/train/SupportingInfo/phenotypic_training.csv')"
   ]
  },
  {
   "cell_type": "code",
   "execution_count": 4,
   "metadata": {},
   "outputs": [],
   "source": [
    "import networkx as nx\n",
    "import matplotlib.pyplot as plt\n",
    "\n",
    "for i, edge in enumerate(curvatures):\n",
    "    vertex = edge.mean(0)\n",
    "    graph = nx.from_numpy_array(edge)\n",
    "    weights = [data['weight'] for (_, _, data) in graph.edges(data=True)]\n",
    "    nx.draw(graph, pos=pos, node_color=vertex, node_size=30, edge_color=weights, width=0.05)\n",
    "    plt.savefig('CNIChallenge/train/img/{}_{}.png'.format(i, metadata['DX'][i]))\n",
    "    plt.clf()"
   ]
  }
 ],
 "metadata": {
  "kernelspec": {
   "display_name": "Python 3",
   "language": "python",
   "name": "python3"
  },
  "language_info": {
   "codemirror_mode": {
    "name": "ipython",
    "version": 3
   },
   "file_extension": ".py",
   "mimetype": "text/x-python",
   "name": "python",
   "nbconvert_exporter": "python",
   "pygments_lexer": "ipython3",
   "version": "3.8.3"
  }
 },
 "nbformat": 4,
 "nbformat_minor": 4
}

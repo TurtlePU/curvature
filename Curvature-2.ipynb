{
 "cells": [
  {
   "cell_type": "code",
   "execution_count": 1,
   "metadata": {},
   "outputs": [],
   "source": [
    "import math\n",
    "import os\n",
    "import random\n",
    "\n",
    "import networkx as nx\n",
    "import numpy as np\n",
    "import matplotlib.pyplot as plt\n",
    "import seaborn as sns\n",
    "\n",
    "from ot import emd2\n",
    "\n",
    "from sklearn.cluster import AffinityPropagation, DBSCAN, SpectralClustering\n",
    "from sklearn.metrics import accuracy_score, confusion_matrix\n",
    "from sklearn.model_selection import train_test_split\n",
    "from sklearn.decomposition import PCA"
   ]
  },
  {
   "cell_type": "code",
   "execution_count": 2,
   "metadata": {},
   "outputs": [],
   "source": [
    "%matplotlib inline\n",
    "cmap = sns.light_palette('azure', input='xkcd')"
   ]
  },
  {
   "cell_type": "code",
   "execution_count": 3,
   "metadata": {},
   "outputs": [],
   "source": [
    "def floyd(mt):\n",
    "    res = mt.copy()\n",
    "    n = len(mt)\n",
    "    for i in range(n):\n",
    "        for k in range(n):\n",
    "            if i == k: continue\n",
    "            for j in range(n):\n",
    "                if i == j or j == k: continue\n",
    "                if res[i, j] > res[i, k] + res[k, j]:\n",
    "                    res[i, j] = res[i, k] + res[k, j]\n",
    "    return res\n",
    "\n",
    "def get_curvature(mt):\n",
    "    n = len(mt)\n",
    "    hop = floyd(np.vectorize(lambda x: n + 1 if x == 0 else 1)(mt))\n",
    "    for i in range(n):\n",
    "        hop[i, i] = 0\n",
    "    piles = [[w / row.sum() for w in row] for row in mt]\n",
    "    res = np.zeros((n, n), dtype=float)\n",
    "    for i in range(n):\n",
    "        for j in range(n):\n",
    "            if hop[i, j] != 0:\n",
    "                res[i, j] = 1 - emd2(piles[i], piles[j], hop) / hop[i, j]\n",
    "    return res\n",
    "\n",
    "def upper_triangle(mt):\n",
    "    res = []\n",
    "    for i in range(mt.shape[0]):\n",
    "        for j in range(i + 1, mt.shape[1]):\n",
    "            res.append(mt[i, j])\n",
    "    return np.array(res)\n",
    "\n",
    "def show_accuracy(y_test, y_pred):\n",
    "    print('Точность: ', round(accuracy_score(y_test, y_pred), 3))\n",
    "    conf_mt = confusion_matrix(y_test, y_pred)\n",
    "    labels = ['CTL', 'PNT']\n",
    "    ax = plt.subplot()\n",
    "    sns.heatmap(conf_mt, annot=True, ax=ax, cmap=cmap)\n",
    "    ax.set_xlabel('Предсказание')\n",
    "    ax.set_ylabel('На самом деле')\n",
    "    ax.set_title('Ошибки')\n",
    "    ax.xaxis.set_ticklabels(labels) \n",
    "    ax.yaxis.set_ticklabels(labels, rotation=360)\n",
    "    plt.show()"
   ]
  },
  {
   "cell_type": "code",
   "execution_count": 4,
   "metadata": {},
   "outputs": [],
   "source": [
    "vertex_curvature = []\n",
    "edge_curvature = []\n",
    "y = []\n",
    "\n",
    "for i, (a, b) in enumerate([('controls', 'ctrl'), ('patients', 'pat')]):\n",
    "    dirname = 'Alzheimer/AD_'+a+'_corr_mats/'\n",
    "    n = len(os.listdir(dirname))\n",
    "    curvature = [get_curvature(np.load(dirname+b+'_'+str(j)+'.npy')) for j in range(n)]\n",
    "\n",
    "    vertex_curvature.append([c.mean(axis=1) for c in curvature])\n",
    "    edge_curvature.append([upper_triangle(c) for c in curvature])\n",
    "    y.append([i] * n)\n",
    "\n",
    "vertex_curvature = np.concatenate(vertex_curvature)\n",
    "edge_curvature = np.concatenate(edge_curvature)\n",
    "y = np.concatenate(y)"
   ]
  },
  {
   "cell_type": "code",
   "execution_count": 5,
   "metadata": {},
   "outputs": [],
   "source": [
    "c = ['r' if yy == 0 else 'b' for yy in y]"
   ]
  },
  {
   "cell_type": "markdown",
   "metadata": {},
   "source": [
    "# Кластеризация по гистограмме"
   ]
  },
  {
   "cell_type": "code",
   "execution_count": 6,
   "metadata": {},
   "outputs": [],
   "source": [
    "def histogram(samples, eps = 0.05):\n",
    "    m = samples.min()\n",
    "    M = samples.max()\n",
    "    b = int(math.ceil((M - m) / eps))\n",
    "    return np.array([np.histogram(x, bins=b, range=(m, M))[0] for x in samples])"
   ]
  },
  {
   "cell_type": "code",
   "execution_count": 7,
   "metadata": {},
   "outputs": [],
   "source": [
    "X = histogram(vertex_curvature)"
   ]
  },
  {
   "cell_type": "code",
   "execution_count": 8,
   "metadata": {},
   "outputs": [],
   "source": [
    "n = X.shape[1]\n",
    "d = [[abs(i - j) for j in range(n)] for i in range(n)]\n",
    "D = np.array([[emd2(a, b, d) for b in X] for a in X])"
   ]
  },
  {
   "cell_type": "markdown",
   "metadata": {},
   "source": [
    "## Наивный классификатор"
   ]
  },
  {
   "cell_type": "markdown",
   "metadata": {},
   "source": [
    "Будем считать, что пациент болен, если среднее расстояние Левенштейна его гистограммы до кластера с больными меньше, чем до кластера со здоровыми. Получаем точность предсказания от 50 до 66 %:"
   ]
  },
  {
   "cell_type": "code",
   "execution_count": 46,
   "metadata": {},
   "outputs": [
    {
     "name": "stdout",
     "output_type": "stream",
     "text": [
      "Точность:  0.457\n"
     ]
    },
    {
     "data": {
      "image/png": "[encoded data removed]",
      "text/plain": [
       "<Figure size 432x288 with 2 Axes>"
      ]
     },
     "metadata": {
      "needs_background": "light"
     },
     "output_type": "display_data"
    }
   ],
   "source": [
    "train_i, test_i = train_test_split(np.array(list(range(len(X)))), test_size=0.3)\n",
    "\n",
    "controls = train_i[np.where(y[train_i] == 0)[0]]\n",
    "patients = train_i[np.where(y[train_i] == 1)[0]]\n",
    "\n",
    "y_pred = []\n",
    "for i in test_i:\n",
    "    control_dist = np.array([ D[i, j] for j in controls ]).mean()\n",
    "    patient_dist = np.array([ D[i, j] for j in patients ]).mean()\n",
    "    y_pred.append(int(patient_dist < control_dist))\n",
    "\n",
    "show_accuracy(y[test_i], y_pred)"
   ]
  },
  {
   "cell_type": "markdown",
   "metadata": {},
   "source": [
    "## Другие классификаторы"
   ]
  },
  {
   "cell_type": "markdown",
   "metadata": {},
   "source": [
    "Как мы видели, классификация на 2 кластера не сработает. Будем разбивать на большее число кластеров, а потом отобразим их на нашу пару \"контроль / пациент\" следующим образом: для каждого кластера найдём, какого типа элементов больше, и к этому типу отнесём весь кластер."
   ]
  },
  {
   "cell_type": "code",
   "execution_count": 10,
   "metadata": {},
   "outputs": [],
   "source": [
    "def group_labels(labels, groups):\n",
    "    if (min(len(groups), len(labels)) == 0):\n",
    "        return np.array([])\n",
    "    bins = np.array([[0 for j in range(max(groups) + 1)] for i in range(max(labels) + 1)])\n",
    "    for group, label in zip(groups, labels):\n",
    "        bins[label, group] += 1\n",
    "    return np.argmax(bins, axis=1)"
   ]
  },
  {
   "cell_type": "code",
   "execution_count": 31,
   "metadata": {},
   "outputs": [
    {
     "name": "stdout",
     "output_type": "stream",
     "text": [
      "Точность:  0.616\n"
     ]
    },
    {
     "data": {
      "image/png": "[encoded data removed]",
      "text/plain": [
       "<Figure size 432x288 with 2 Axes>"
      ]
     },
     "metadata": {
      "needs_background": "light"
     },
     "output_type": "display_data"
    }
   ],
   "source": [
    "labels = AffinityPropagation(affinity='precomputed', random_state=None).fit_predict(-D)\n",
    "show_accuracy(y, group_labels(labels, y)[labels])"
   ]
  },
  {
   "cell_type": "code",
   "execution_count": 39,
   "metadata": {},
   "outputs": [
    {
     "name": "stdout",
     "output_type": "stream",
     "text": [
      "Точность:  0.689\n"
     ]
    },
    {
     "data": {
      "image/png": "[encoded data removed]",
      "text/plain": [
       "<Figure size 432x288 with 2 Axes>"
      ]
     },
     "metadata": {
      "needs_background": "light"
     },
     "output_type": "display_data"
    }
   ],
   "source": [
    "delta = 100\n",
    "affinity = np.exp(- D ** 2 / (2. * delta ** 2))\n",
    "labels = SpectralClustering(n_clusters=30, affinity='precomputed').fit_predict(affinity)\n",
    "show_accuracy(y, group_labels(labels, y)[labels])"
   ]
  },
  {
   "cell_type": "code",
   "execution_count": 114,
   "metadata": {},
   "outputs": [
    {
     "name": "stdout",
     "output_type": "stream",
     "text": [
      "Точность:  0.656\n"
     ]
    },
    {
     "data": {
      "image/png": "[encoded data removed]",
      "text/plain": [
       "<Figure size 432x288 with 2 Axes>"
      ]
     },
     "metadata": {
      "needs_background": "light"
     },
     "output_type": "display_data"
    }
   ],
   "source": [
    "delta = 1.5\n",
    "affinity = np.exp(-(D - D.mean()) ** 2 / (2. * delta ** 2))\n",
    "labels = SpectralClustering(n_clusters=30, affinity='precomputed').fit_predict(affinity)\n",
    "show_accuracy(y, group_labels(labels, y)[labels])"
   ]
  },
  {
   "cell_type": "code",
   "execution_count": 25,
   "metadata": {},
   "outputs": [
    {
     "name": "stdout",
     "output_type": "stream",
     "text": [
      "Шумы: 0.17218543046357615\n",
      "Кластеров: 5\n",
      "Точность:  0.528\n"
     ]
    },
    {
     "data": {
      "image/png": "[encoded data removed]",
      "text/plain": [
       "<Figure size 432x288 with 2 Axes>"
      ]
     },
     "metadata": {
      "needs_background": "light"
     },
     "output_type": "display_data"
    }
   ],
   "source": [
    "def dbscan(D, k):\n",
    "    eps = np.partition(D, k, axis=1)[:,k].mean()\n",
    "    labels = DBSCAN(eps=eps, min_samples=k, metric='precomputed').fit_predict(D)\n",
    "    clean_y = y[labels != -1]\n",
    "    clean_labels = labels[labels != -1]\n",
    "    noise = sum(labels == -1) / len(labels)\n",
    "    print('Шумы:', noise)\n",
    "    print('Кластеров:', max(labels) + 1)\n",
    "    if noise < 1:\n",
    "        show_accuracy(clean_y, group_labels(clean_labels, clean_y)[clean_labels])\n",
    "dbscan(D, 3)"
   ]
  }
 ],
 "metadata": {
  "kernelspec": {
   "display_name": "Python 3",
   "language": "python",
   "name": "python3"
  },
  "language_info": {
   "codemirror_mode": {
    "name": "ipython",
    "version": 3
   },
   "file_extension": ".py",
   "mimetype": "text/x-python",
   "name": "python",
   "nbconvert_exporter": "python",
   "pygments_lexer": "ipython3",
   "version": "3.8.3"
  }
 },
 "nbformat": 4,
 "nbformat_minor": 4
}
